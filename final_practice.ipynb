{
 "cells": [
  {
   "cell_type": "markdown",
   "metadata": {},
   "source": [
    "# 제품 review 데이터의 감성 분석"
   ]
  },
  {
   "cell_type": "markdown",
   "metadata": {},
   "source": [
    "사용한 데이터 :amazon_uk_shoes_products_dataset_2021_12.csv"
   ]
  },
  {
   "cell_type": "markdown",
   "metadata": {},
   "source": [
    "데이터 로드"
   ]
  },
  {
   "cell_type": "code",
   "execution_count": 3,
   "metadata": {},
   "outputs": [],
   "source": [
    "import pandas as pd\n",
    "from sklearn.linear_model import LogisticRegression\n",
    "from sklearn.pipeline import Pipeline\n",
    "\n",
    "data = pd.read_csv('./amazon_uk_shoes_products_dataset_2021_12.csv')"
   ]
  },
  {
   "cell_type": "markdown",
   "metadata": {},
   "source": [
    "데이터 프레임의 모양을 프린트"
   ]
  },
  {
   "cell_type": "code",
   "execution_count": 4,
   "metadata": {},
   "outputs": [
    {
     "name": "stdout",
     "output_type": "stream",
     "text": [
      "The shape of the data (rows, cols) is (6823, 11)\n"
     ]
    }
   ],
   "source": [
    "print(\"The shape of the data (rows, cols) is \" + str(data.shape))"
   ]
  },
  {
   "cell_type": "markdown",
   "metadata": {},
   "source": [
    "### 데이터 탐색\n"
   ]
  },
  {
   "cell_type": "code",
   "execution_count": 5,
   "metadata": {},
   "outputs": [
    {
     "name": "stdout",
     "output_type": "stream",
     "text": [
      "<class 'pandas.core.frame.DataFrame'>\n",
      "RangeIndex: 6823 entries, 0 to 6822\n",
      "Data columns (total 11 columns):\n",
      " #   Column             Non-Null Count  Dtype  \n",
      "---  ------             --------------  -----  \n",
      " 0   url                6823 non-null   object \n",
      " 1   product_name       6823 non-null   object \n",
      " 2   reviewer_name      6823 non-null   object \n",
      " 3   review_title       6822 non-null   object \n",
      " 4   review_text        6814 non-null   object \n",
      " 5   review_rating      6823 non-null   float64\n",
      " 6   verified_purchase  6823 non-null   bool   \n",
      " 7   review_date        6823 non-null   object \n",
      " 8   helpful_count      1953 non-null   object \n",
      " 9   uniq_id            6823 non-null   object \n",
      " 10  scraped_at         6823 non-null   object \n",
      "dtypes: bool(1), float64(1), object(9)\n",
      "memory usage: 539.8+ KB\n",
      "None\n"
     ]
    }
   ],
   "source": [
    "# 데이터 프레임의 기본 정보 확인\n",
    "print(data.info())"
   ]
  },
  {
   "cell_type": "code",
   "execution_count": 6,
   "metadata": {},
   "outputs": [
    {
     "name": "stdout",
     "output_type": "stream",
     "text": [
      "                                      url  \\\n",
      "0  https://www.amazon.co.uk/dp/B07SBX32T5   \n",
      "1  https://www.amazon.co.uk/dp/B07SBX32T5   \n",
      "2  https://www.amazon.co.uk/dp/B07SBX32T5   \n",
      "3  https://www.amazon.co.uk/dp/B07SBX32T5   \n",
      "4  https://www.amazon.co.uk/dp/B08SW434MG   \n",
      "\n",
      "                                        product_name     reviewer_name  \\\n",
      "0  Klasified Women's Transparent Clear Sneaker Sh...  Jocelyn McSayles   \n",
      "1  Klasified Women's Transparent Clear Sneaker Sh...      Kenia Rivera   \n",
      "2  Klasified Women's Transparent Clear Sneaker Sh...       Chris Souza   \n",
      "3  Klasified Women's Transparent Clear Sneaker Sh...   Amazon Customer   \n",
      "4  GUESS Women's Bradly Gymnastics Shoe, White, 7 UK         Graziella   \n",
      "\n",
      "         review_title                                        review_text  \\\n",
      "0             Love em  Love these. Was looking for converses and thes...   \n",
      "1  The plastic ripped  The shoes are very cute, but after the 2nd day...   \n",
      "2        Good quality                                       Good quality   \n",
      "3                Good                                              Great   \n",
      "4          PERFETTE!!  Ho scelto il modello bianco con rifinitura die...   \n",
      "\n",
      "   review_rating  verified_purchase  \\\n",
      "0            5.0               True   \n",
      "1            2.0               True   \n",
      "2            5.0               True   \n",
      "3            5.0               True   \n",
      "4            5.0               True   \n",
      "\n",
      "                                        review_date  \\\n",
      "0      Reviewed in the United States on 2 June 2020   \n",
      "1  Reviewed in the United States on 28 October 2021   \n",
      "2  Reviewed in the United States on 20 January 2021   \n",
      "3    Reviewed in the United States on 22 April 2021   \n",
      "4                 Reviewed in Italy on 2 April 2021   \n",
      "\n",
      "                 helpful_count                               uniq_id  \\\n",
      "0  2 people found this helpful  36eae4e5-2894-5279-a0b7-d2b330e2b814   \n",
      "1                          NaN  f4778bb8-3070-5cb1-b5aa-ffce41a97b57   \n",
      "2                          NaN  db5a7525-d40b-5265-84d8-df4f29837a3b   \n",
      "3                          NaN  75a42851-6462-54b5-988a-27d336221943   \n",
      "4  2 people found this helpful  232dee43-849e-5d06-ba05-efb3f4814714   \n",
      "\n",
      "            scraped_at  \n",
      "0  24/12/2021 02:26:25  \n",
      "1  24/12/2021 02:26:25  \n",
      "2  24/12/2021 02:26:25  \n",
      "3  24/12/2021 02:26:25  \n",
      "4  24/12/2021 02:26:25  \n"
     ]
    }
   ],
   "source": [
    "# 데이터의 처음 몇 행 확인\n",
    "print(data.head())"
   ]
  },
  {
   "cell_type": "code",
   "execution_count": 7,
   "metadata": {},
   "outputs": [
    {
     "name": "stdout",
     "output_type": "stream",
     "text": [
      "       review_rating\n",
      "count    6823.000000\n",
      "mean        4.132493\n",
      "std         1.336969\n",
      "min         1.000000\n",
      "25%         4.000000\n",
      "50%         5.000000\n",
      "75%         5.000000\n",
      "max         5.000000\n"
     ]
    }
   ],
   "source": [
    "# 기술 통계 확인\n",
    "print(data.describe())"
   ]
  },
  {
   "cell_type": "markdown",
   "metadata": {},
   "source": [
    "### 데이터 정리"
   ]
  },
  {
   "cell_type": "markdown",
   "metadata": {},
   "source": [
    "결측값 처리"
   ]
  },
  {
   "cell_type": "code",
   "execution_count": 8,
   "metadata": {},
   "outputs": [],
   "source": [
    "# 결측값 제거\n",
    "data = data.dropna(subset=['review_title', 'review_text', 'helpful_count'])"
   ]
  },
  {
   "cell_type": "markdown",
   "metadata": {},
   "source": [
    "##### 노이즈 제거"
   ]
  },
  {
   "cell_type": "code",
   "execution_count": 9,
   "metadata": {},
   "outputs": [],
   "source": [
    "def remove_outliers(data, column):\n",
    "    Q1 = data[column].quantile(0.25)  # 1사분위수\n",
    "    Q3 = data[column].quantile(0.75)  # 3사분위수\n",
    "    IQR = Q3 - Q1  # 사분위수 범위\n",
    "    lower_bound = Q1 - 1.5 * IQR  # 하한값\n",
    "    upper_bound = Q3 + 1.5 * IQR  # 상한값\n",
    "    filtered_data = data[(data[column] >= lower_bound) & (data[column] <= upper_bound)]\n",
    "    return filtered_data\n",
    "\n",
    "# 'review_rating' 열에서 이상치 제거\n",
    "data = remove_outliers(data, 'review_rating')\n"
   ]
  },
  {
   "cell_type": "markdown",
   "metadata": {},
   "source": [
    "##### 소문자 변환, 불용어 제거, 특수 문자 제거 등"
   ]
  },
  {
   "cell_type": "code",
   "execution_count": 13,
   "metadata": {},
   "outputs": [
    {
     "name": "stderr",
     "output_type": "stream",
     "text": [
      "[nltk_data] Downloading package stopwords to\n",
      "[nltk_data]     /home/codespace/nltk_data...\n",
      "[nltk_data]   Package stopwords is already up-to-date!\n",
      "[nltk_data] Downloading package punkt to /home/codespace/nltk_data...\n",
      "[nltk_data]   Package punkt is already up-to-date!\n",
      "[nltk_data] Downloading package wordnet to\n",
      "[nltk_data]     /home/codespace/nltk_data...\n",
      "[nltk_data]   Package wordnet is already up-to-date!\n",
      "[nltk_data] Downloading package omw-1.4 to\n",
      "[nltk_data]     /home/codespace/nltk_data...\n",
      "[nltk_data]   Package omw-1.4 is already up-to-date!\n"
     ]
    }
   ],
   "source": [
    "import re\n",
    "import string\n",
    "from nltk.corpus import stopwords\n",
    "from nltk.tokenize import word_tokenize\n",
    "from nltk.stem import PorterStemmer, WordNetLemmatizer\n",
    "\n",
    "# NLTK 리소스 다운로드\n",
    "import nltk\n",
    "nltk.download('stopwords')\n",
    "nltk.download('punkt')\n",
    "nltk.download('wordnet')\n",
    "nltk.download('omw-1.4')\n",
    "\n",
    "# 불용어 설정\n",
    "stop_words = set(stopwords.words('english'))\n",
    "\n",
    "# 스테머 및 표제어 추출기 설정\n",
    "stemmer = PorterStemmer()\n",
    "lemmatizer = WordNetLemmatizer()\n",
    "\n",
    "def preprocess_text(text, method='lemmatization'):\n",
    "    # 소문자 변환\n",
    "    text = text.lower()\n",
    "    # 특수 문자 제거\n",
    "    text = re.sub(f\"[{string.punctuation}]\", \"\", text)\n",
    "    # 단어 토큰화\n",
    "    words = word_tokenize(text)\n",
    "    # 불용어 제거\n",
    "    words = [word for word in words if word not in stop_words]\n",
    "    \n",
    "    if method == 'stemming':\n",
    "        # 스테밍\n",
    "        words = [stemmer.stem(word) for word in words]\n",
    "    elif method == 'lemmatization':\n",
    "        # 표제어 추출\n",
    "        words = [lemmatizer.lemmatize(word) for word in words]\n",
    "    \n",
    "    return \" \".join(words)\n",
    "\n",
    "# 전처리 과정 적용\n",
    "data['cleaned_review_text'] = data['review_text'].apply(lambda x: preprocess_text(x, method='lemmatization'))\n"
   ]
  },
  {
   "cell_type": "markdown",
   "metadata": {},
   "source": [
    "리뷰 평점을 기반으로 감성 레이블을 생성합니다. \n",
    "평점 1-2는 부정, 4-5는 긍정, 3은 중립으로 설정하였습니다."
   ]
  },
  {
   "cell_type": "code",
   "execution_count": 15,
   "metadata": {},
   "outputs": [],
   "source": [
    "def sentiment_label(rating):\n",
    "    if rating <= 2:\n",
    "        return -1  # negative\n",
    "    elif rating == 3:\n",
    "        return 0  # neutral\n",
    "    else:\n",
    "        return 1  # positive\n",
    "\n",
    "data['sentiment'] = data['review_rating'].apply(sentiment_label)\n"
   ]
  },
  {
   "cell_type": "markdown",
   "metadata": {},
   "source": [
    "데이터를 학습용과 테스트용으로 나눕니다."
   ]
  },
  {
   "cell_type": "code",
   "execution_count": 16,
   "metadata": {},
   "outputs": [],
   "source": [
    "from sklearn.model_selection import train_test_split\n",
    "\n",
    "X = data['cleaned_review_text']\n",
    "y = data['sentiment']\n",
    "\n",
    "X_train, X_test, y_train, y_test = train_test_split(X, y, test_size=0.2, random_state=42)"
   ]
  },
  {
   "cell_type": "markdown",
   "metadata": {},
   "source": [
    "#### 모델 학습 및 튜닝"
   ]
  },
  {
   "cell_type": "markdown",
   "metadata": {},
   "source": [
    "Logistic Regression"
   ]
  },
  {
   "cell_type": "code",
   "execution_count": 17,
   "metadata": {},
   "outputs": [
    {
     "name": "stdout",
     "output_type": "stream",
     "text": [
      "Best Logistic Regression parameters: {'clf__C': 10, 'clf__penalty': 'l2', 'vect__max_df': 0.8, 'vect__ngram_range': (1, 1)}\n"
     ]
    }
   ],
   "source": [
    "from sklearn.feature_extraction.text import TfidfVectorizer\n",
    "from sklearn.linear_model import LogisticRegression\n",
    "from sklearn.pipeline import Pipeline\n",
    "from sklearn.model_selection import GridSearchCV\n",
    "\n",
    "# Logistic Regression 모델 파이프라인\n",
    "lr_pipeline = Pipeline([\n",
    "    ('vect', TfidfVectorizer()),\n",
    "    ('clf', LogisticRegression(max_iter=200))\n",
    "])\n",
    "\n",
    "# 하이퍼파라미터 그리드 설정\n",
    "param_grid_lr = {\n",
    "    'clf__C': [0.01, 0.1, 1, 10],\n",
    "    'clf__penalty': ['l2'],\n",
    "    'vect__max_df': [0.8, 0.9, 1.0],\n",
    "    'vect__ngram_range': [(1, 1), (1, 2)]\n",
    "}\n",
    "# 그리드 서치 설정\n",
    "grid_search_lr = GridSearchCV(lr_pipeline, param_grid_lr, cv=5, scoring='accuracy')\n",
    "\n",
    "# 모델 학습\n",
    "grid_search_lr.fit(X_train, y_train)\n",
    "\n",
    "# 최적의 파라미터와 모델\n",
    "best_lr_model = grid_search_lr.best_estimator_\n",
    "print(\"Best Logistic Regression parameters:\", grid_search_lr.best_params_)"
   ]
  },
  {
   "cell_type": "markdown",
   "metadata": {},
   "source": [
    "교차 검증을 사용하여 모델의 견고성을 확인"
   ]
  },
  {
   "cell_type": "code",
   "execution_count": null,
   "metadata": {},
   "outputs": [
    {
     "name": "stdout",
     "output_type": "stream",
     "text": [
      "Logistic Regression Cross Validation Scores:\n",
      "[0.81851512 0.81743119 0.82385321 0.82018349 0.79357798]\n",
      "Mean Accuracy: 0.8147121990598644\n"
     ]
    }
   ],
   "source": [
    "from sklearn.model_selection import cross_val_score\n",
    "\n",
    "# Logistic Regression 모델의 교차 검증\n",
    "lr_cv_scores = cross_val_score(best_lr_model, X_train, y_train, cv=5, scoring='accuracy')\n",
    "\n",
    "print(\"Logistic Regression Cross Validation Scores:\")\n",
    "print(lr_cv_scores)\n",
    "print(\"Mean Accuracy:\", lr_cv_scores.mean())\n"
   ]
  },
  {
   "cell_type": "markdown",
   "metadata": {},
   "source": [
    "#### 모델 평가"
   ]
  },
  {
   "cell_type": "markdown",
   "metadata": {},
   "source": [
    "Logistic Regression 평가"
   ]
  },
  {
   "cell_type": "code",
   "execution_count": 18,
   "metadata": {},
   "outputs": [
    {
     "name": "stdout",
     "output_type": "stream",
     "text": [
      "Logistic Regression Classification Report:\n",
      "              precision    recall  f1-score   support\n",
      "\n",
      "          -1       0.69      0.57      0.62        88\n",
      "           0       0.25      0.07      0.12        40\n",
      "           1       0.80      0.94      0.86       262\n",
      "\n",
      "    accuracy                           0.76       390\n",
      "   macro avg       0.58      0.53      0.53       390\n",
      "weighted avg       0.72      0.76      0.73       390\n",
      "\n",
      "Accuracy: 0.764102564102564\n",
      "Confusion Matrix:\n",
      "[[ 50   5  33]\n",
      " [  9   3  28]\n",
      " [ 13   4 245]]\n"
     ]
    }
   ],
   "source": [
    "from sklearn.metrics import classification_report, accuracy_score, confusion_matrix\n",
    "\n",
    "# 예측\n",
    "lr_predictions = best_lr_model.predict(X_test)\n",
    "\n",
    "# 평가\n",
    "print(\"Logistic Regression Classification Report:\")\n",
    "print(classification_report(y_test, lr_predictions))\n",
    "print(\"Accuracy:\", accuracy_score(y_test, lr_predictions))\n",
    "\n",
    "# 혼동 행렬\n",
    "lr_cm = confusion_matrix(y_test, lr_predictions)\n",
    "print(\"Confusion Matrix:\")\n",
    "print(lr_cm)\n"
   ]
  },
  {
   "cell_type": "markdown",
   "metadata": {},
   "source": [
    "#### 결과 시각화 및 보고"
   ]
  },
  {
   "cell_type": "code",
   "execution_count": 20,
   "metadata": {},
   "outputs": [
    {
     "data": {
      "image/png": "[encoded data removed]",
      "text/plain": [
       "<Figure size 640x480 with 2 Axes>"
      ]
     },
     "metadata": {},
     "output_type": "display_data"
    }
   ],
   "source": [
    "import seaborn as sns\n",
    "import matplotlib.pyplot as plt\n",
    "\n",
    "def plot_confusion_matrix(cm, title):\n",
    "    sns.heatmap(cm, annot=True, fmt='d', cmap='Blues',\n",
    "                 xticklabels=['negative', 'neutral', 'positive'],\n",
    "                   yticklabels=['negative', 'neutral', 'positive'])\n",
    "    plt.ylabel('Actual')\n",
    "    plt.xlabel('Predicted')\n",
    "    plt.title(title)\n",
    "    plt.show()\n",
    "\n",
    "# Logistic Regression 혼동 행렬 시각화\n",
    "plot_confusion_matrix(lr_cm, \"Logistic Regression Confusion Matrix\")\n"
   ]
  }
 ],
 "metadata": {
  "kernelspec": {
   "display_name": "Python 3",
   "language": "python",
   "name": "python3"
  },
  "language_info": {
   "codemirror_mode": {
    "name": "ipython",
    "version": 3
   },
   "file_extension": ".py",
   "mimetype": "text/x-python",
   "name": "python",
   "nbconvert_exporter": "python",
   "pygments_lexer": "ipython3",
   "version": "3.10.13"
  }
 },
 "nbformat": 4,
 "nbformat_minor": 2
}
